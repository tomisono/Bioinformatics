{
 "cells": [
  {
   "cell_type": "code",
   "execution_count": 1,
   "metadata": {},
   "outputs": [
    {
     "data": {
      "text/plain": [
       "{0: 4, 1: 3, 2: 2, 3: 1, 4: 0, 5: 1, 6: 2, 7: 3}"
      ]
     },
     "execution_count": 1,
     "metadata": {},
     "output_type": "execute_result"
    }
   ],
   "source": [
    "def PatternCount(Genome,Pattern):\n",
    "    n = len(Genome)\n",
    "    k = len(Pattern)\n",
    "    occurs = 0\n",
    "    for i in range(n-k+1):\n",
    "        x =  Genome[i:i+k]\n",
    "        if x == Pattern:\n",
    "            occurs+= 1\n",
    "                 \n",
    "    return(occurs)\n",
    "\n",
    "def SymbolArray(Genome, symbol):\n",
    "    array = {}\n",
    "    n = len(Genome)\n",
    "    ExtendedGenome = Genome + Genome[0:n//2]\n",
    "    for i in range(n):\n",
    "        array[i] = PatternCount(ExtendedGenome[i:i+(n//2)],symbol)\n",
    "    return array\n",
    "\n",
    "SymbolArray('AAAAGGGG','A')"
   ]
  },
  {
   "cell_type": "code",
   "execution_count": 35,
   "metadata": {},
   "outputs": [
    {
     "data": {
      "text/plain": [
       "{0: 4, 1: 3, 2: 2, 3: 1, 4: 0, 5: 1, 6: 2, 7: 3}"
      ]
     },
     "execution_count": 35,
     "metadata": {},
     "output_type": "execute_result"
    }
   ],
   "source": [
    "def PatternCount(Genome,Pattern):\n",
    "    n = len(Genome)\n",
    "    k = len(Pattern)\n",
    "    occurs = 0\n",
    "    for i in range(n-k+1):\n",
    "        x =  Genome[i:i+k]\n",
    "        if x == Pattern:\n",
    "            occurs+= 1\n",
    "                 \n",
    "    return(occurs)\n",
    "\n",
    "def FasterSymbolArray(Genome, symbol):\n",
    "    array = {}\n",
    "    n = len(Genome)\n",
    "    s_len = len(symbol)\n",
    "    ExtendedGenome = Genome + Genome[0:n//2]\n",
    "    array[0] = PatternCount(Genome[0:n//2],symbol)\n",
    "\n",
    "    for i in range(1,n):\n",
    "        array[i] = array[i-1]\n",
    "        if ExtendedGenome[i-1]== symbol:\n",
    "                array[i] -= 1\n",
    "        if ExtendedGenome[i+(n//2)-1] ==symbol:\n",
    "                array[i] += 1\n",
    "    return(array)    \n",
    "\n",
    "FasterSymbolArray('AAAAGGGG','A')"
   ]
  },
  {
   "cell_type": "code",
   "execution_count": 13,
   "metadata": {},
   "outputs": [
    {
     "data": {
      "text/plain": [
       "{0: 0, 1: 1, 2: 1, 3: 1, 4: 0, 5: 0, 6: 0, 7: 0}"
      ]
     },
     "execution_count": 13,
     "metadata": {},
     "output_type": "execute_result"
    }
   ],
   "source": [
    "def PatternCount(Genome,Pattern):\n",
    "    n = len(Genome)\n",
    "    k = len(Pattern)\n",
    "    occurs = 0\n",
    "    for i in range(n-k+1):\n",
    "        x =  Genome[i:i+k]\n",
    "        if x == Pattern:\n",
    "            occurs+= 1\n",
    "                 \n",
    "    return(occurs)\n",
    "\n",
    "def FasterSymbolArray(Genome, symbol):\n",
    "    array = {}\n",
    "    n = len(Genome)\n",
    "    symbol_lenght = len(symbol)\n",
    "    ExtendedGenome = Genome + Genome[0:n//2]\n",
    "    array[0] = PatternCount(Genome[0:n//2],symbol)\n",
    "\n",
    "    for i in range(1,n):\n",
    "        array[i] = array[i-1]\n",
    "        if ExtendedGenome[i-1:i+symbol_lenght-1]== symbol:\n",
    "                array[i] -= 1\n",
    "        if ExtendedGenome[i+(n//2)-symbol_lenght:i+(n//2)] ==symbol:\n",
    "                array[i] += 1\n",
    "    return(array)    \n",
    "\n",
    "FasterSymbolArray('AAAAGGGG','AG')"
   ]
  },
  {
   "cell_type": "code",
   "execution_count": 17,
   "metadata": {},
   "outputs": [
    {
     "data": {
      "text/plain": [
       "[0, -1, -1, -1, 0, 1, 2, 1, 1, 1, 0, 1, 2, 1, 0, 0, 0, 0, -1, 0, -1, -2]"
      ]
     },
     "execution_count": 17,
     "metadata": {},
     "output_type": "execute_result"
    }
   ],
   "source": [
    "def SkewArray(Genome):\n",
    "    skew = [0]\n",
    "    for i in range(len(Genome)):\n",
    "        if Genome[i] == 'C':\n",
    "            skew.append(skew[i]-1)\n",
    "        elif Genome[i] == 'G':\n",
    "            skew.append(skew[i]+1)\n",
    "        else:\n",
    "            skew.append(skew[i])\n",
    "\n",
    "    return skew\n",
    "SkewArray('CATGGGCATCGGCCATACGCC')"
   ]
  },
  {
   "cell_type": "code",
   "execution_count": 11,
   "metadata": {},
   "outputs": [
    {
     "data": {
      "text/plain": [
       "[0, -1, -1, -1, 0, 1, 2, 1, 1, 1, 0, 1, 2, 1, 0, 0, 0, 0, -1, 0, -1, -2]"
      ]
     },
     "execution_count": 11,
     "metadata": {},
     "output_type": "execute_result"
    }
   ],
   "source": [
    "def SkewArray(Genome):\n",
    "    skew = [0]\n",
    "    score = {\"A\":0, \"T\":0, \"C\":-1, \"G\":1}\n",
    "    for i in range(1,len(Genome)+1):\n",
    "            skew.append(score[Genome[i-1]] + skew[i-1])\n",
    "    return skew\n",
    "SkewArray('CATGGGCATCGGCCATACGCC')"
   ]
  },
  {
   "cell_type": "code",
   "execution_count": 45,
   "metadata": {},
   "outputs": [
    {
     "data": {
      "text/plain": [
       "[0, -1, -1, -1, 0, 1, 2, 1, 1, 1, 0, 1, 2, 1, 0, 0, 0, 0, -1, 0, -1, -2]"
      ]
     },
     "execution_count": 45,
     "metadata": {},
     "output_type": "execute_result"
    }
   ],
   "source": [
    "def SkewArray(Genome):\n",
    "    skew = []\n",
    "    for i in range (len(genome)+1):\n",
    "            skew.append(0)\n",
    "    for i in range(len(genome)):\n",
    "            if genome[i] == 'C':\n",
    "                skew[i+1] = skew[i]-1\n",
    "            elif genome[i] == 'G':\n",
    "                skew[i+1] = skew[i]+1   \n",
    "            else:\n",
    "                skew[i+1] = skew[i]\n",
    "    return(skew)\n",
    "SkewArray('CATGGGCATCGGCCATACGCC')"
   ]
  },
  {
   "cell_type": "code",
   "execution_count": 1,
   "metadata": {},
   "outputs": [
    {
     "data": {
      "image/png": "[encoded data removed]",
      "text/plain": [
       "<Figure size 432x288 with 1 Axes>"
      ]
     },
     "metadata": {
      "needs_background": "light"
     },
     "output_type": "display_data"
    }
   ],
   "source": [
    "def SkewArray(genome):\n",
    "    skew = []\n",
    "    for i in range (len(genome)+1):\n",
    "            skew.append(0)\n",
    "    for i in range(len(genome)):\n",
    "            if genome[i] == 'C':\n",
    "                skew[i+1] = skew[i]-1\n",
    "            elif genome[i] == 'G':\n",
    "                skew[i+1] = skew[i]+1   \n",
    "            else:\n",
    "                skew[i+1] = skew[i]\n",
    "    return(skew)\n",
    "genome = 'CATGGGCATCGGCCATACGCC'\n",
    "import matplotlib.pyplot as plt\n",
    "skew = SkewArray(genome)\n",
    "plt.plot(skew)\n",
    "plt.xlabel('genome position')\n",
    "plt.ylabel('skew')\n",
    "plt.show()\n"
   ]
  },
  {
   "cell_type": "code",
   "execution_count": 4,
   "metadata": {},
   "outputs": [
    {
     "data": {
      "text/plain": [
       "[11, 24]"
      ]
     },
     "execution_count": 4,
     "metadata": {},
     "output_type": "execute_result"
    }
   ],
   "source": [
    "def SkewArray(genome):\n",
    "    skew = []\n",
    "    for i in range (len(genome)+1):\n",
    "            skew.append(0)\n",
    "    for i in range(len(genome)):\n",
    "            if genome[i] == 'C':\n",
    "                skew[i+1] = skew[i]-1\n",
    "            elif genome[i] == 'G':\n",
    "                skew[i+1] = skew[i]+1   \n",
    "            else:\n",
    "                skew[i+1] = skew[i]\n",
    "    return(skew)\n",
    "\n",
    "\n",
    "def MinimumSkew(genome):\n",
    "    numbers = SkewArray(genome)\n",
    "    location = []\n",
    "    min = numbers[0]              \n",
    "    for num in numbers:\n",
    "        if num < min:\n",
    "            min = num\n",
    "    for x in range(len(numbers)):\n",
    "        if numbers[x] == min:\n",
    "          location.append(x)\n",
    "    return(location)   \n",
    "  \n",
    "\n",
    "MinimumSkew('TAAAGACTGCCGAGAGGCCAACACGAGTGCTAGAACGAGGGGCGTAAACGCGGGTCCGAT')"
   ]
  },
  {
   "cell_type": "code",
   "execution_count": 29,
   "metadata": {},
   "outputs": [
    {
     "data": {
      "text/plain": [
       "8"
      ]
     },
     "execution_count": 29,
     "metadata": {},
     "output_type": "execute_result"
    }
   ],
   "source": [
    "def HammingDistance(p, q):\n",
    "    R = 0\n",
    "    for i in range(len(p)):\n",
    "         if p[i]!=q[i]:\n",
    "                R +=1\n",
    "    return(R)\n",
    "HammingDistance('ACGTACGT','TACGTACG' )"
   ]
  },
  {
   "cell_type": "code",
   "execution_count": 30,
   "metadata": {},
   "outputs": [
    {
     "name": "stdout",
     "output_type": "stream",
     "text": [
      "[0, 9, 18]\n"
     ]
    }
   ],
   "source": [
    "def PatternMatching(Pattern, Genome):\n",
    "    freq =[]\n",
    "    n = len(Genome)\n",
    "    k = len(Pattern)\n",
    "    for i in range(n-k+1):\n",
    "            if Genome[i:i+k] == Pattern:\n",
    "                freq.append(i)\n",
    "    return(freq)        \n",
    "\n",
    "\n",
    "Genome = 'CTTGATCATCTTGATCATCTTGATCAT'\n",
    "Pattern = 'CTTGATCAT'\n",
    "\n",
    "positions = PatternMatching(Pattern, Genome)\n",
    "print(positions)"
   ]
  },
  {
   "cell_type": "code",
   "execution_count": 33,
   "metadata": {},
   "outputs": [
    {
     "data": {
      "text/plain": [
       "[6, 7, 26, 27]"
      ]
     },
     "execution_count": 33,
     "metadata": {},
     "output_type": "execute_result"
    }
   ],
   "source": [
    "def HammingDistance(p, q):\n",
    "    R = 0\n",
    "    for i in range(len(p)):\n",
    "         if p[i]!=q[i]:\n",
    "                R +=1\n",
    "    return(R)\n",
    "\n",
    " \n",
    "\n",
    "    \n",
    "def ApproximatePatternMatching(Genome, Pattern, d):\n",
    "    freq =[]\n",
    "    n = len(Genome)\n",
    "    k = len(Pattern)\n",
    "    for i in range(n-k+1):\n",
    "        number = HammingDistance(Genome[i:i+k],Pattern )\n",
    "        if number <= d:        \n",
    "            freq.append(i)\n",
    "    return(freq)        \n",
    "\n",
    "ApproximatePatternMatching('CGCCCGAATCCAGAACGCATTCCCATATTTCGGGACCACTGGCCTCCACGGTACGGACGTCAATCAAAT','ATTCTGGA' , 3)"
   ]
  },
  {
   "cell_type": "code",
   "execution_count": 6,
   "metadata": {},
   "outputs": [
    {
     "data": {
      "text/plain": [
       "24"
      ]
     },
     "execution_count": 6,
     "metadata": {},
     "output_type": "execute_result"
    }
   ],
   "source": [
    "def HammingDistance(p, q):\n",
    "    R = 0\n",
    "    for i in range(len(p)):\n",
    "         if p[i]!=q[i]:\n",
    "                R +=1\n",
    "    return(R)\n",
    "\n",
    " \n",
    "\n",
    "    \n",
    "def ApproximatePatternCount(Genome, Pattern, d):\n",
    "    count = 0\n",
    "    n = len(Genome)\n",
    "    k = len(Pattern)\n",
    "    for i in range(n-k+1):\n",
    "        number = HammingDistance(Genome[i:i+k],Pattern )\n",
    "        if number <= d:        \n",
    "            count+= 1\n",
    "    return(count)        \n",
    "\n",
    "ApproximatePatternMatching('AGCGTGCCGAAATATGCCGCCAGACCTGCTGCGGTGGCCTCGCCGACTTCACGGATGCCAAGTGCATAGAGGAAGCGAGCAAAGGTGGTTTCTTTCGCTTTATCCAGCGCGTTAACCACGTTCTGTGCCGACTTT','GTGCCG',3)"
   ]
  },
  {
   "cell_type": "code",
   "execution_count": 8,
   "metadata": {},
   "outputs": [
    {
     "data": {
      "text/plain": [
       "2"
      ]
     },
     "execution_count": 8,
     "metadata": {},
     "output_type": "execute_result"
    }
   ],
   "source": [
    "def HammingDistance(p, q):\n",
    "    R = 0\n",
    "    for i in range(len(p)):\n",
    "         if p[i]!=q[i]:\n",
    "                R +=1\n",
    "    return(R)\n",
    "\n",
    " \n",
    "\n",
    "    \n",
    "def ApproximatePatternCount(Pattern, Genome, d):\n",
    "    count = 0\n",
    "    n = len(Genome)\n",
    "    k = len(Pattern)\n",
    "    for i in range(n-k+1):\n",
    "        number = HammingDistance(Genome[i:i+k],Pattern )\n",
    "        if number <= d:        \n",
    "            count+= 1\n",
    "    return(count)        \n",
    "\n",
    "ApproximatePatternCount('AA','AAA',0)\n"
   ]
  },
  {
   "cell_type": "code",
   "execution_count": 55,
   "metadata": {},
   "outputs": [
    {
     "name": "stdout",
     "output_type": "stream",
     "text": [
      "[[ 0  0  0  0  0  0  0]\n",
      " [ 0  0  0  0  0  0  0]\n",
      " [ 0  0  1  2  3  4  5]\n",
      " [ 0  0  6  7  8  9 10]\n",
      " [ 0  0 11 12 13 14 15]\n",
      " [ 0  0 16 17 18 19 20]]\n"
     ]
    }
   ],
   "source": [
    "import numpy as np\n",
    "row = 6\n",
    "column = 7\n",
    "G = 1\n",
    "Matrix = np.zeros((row,column),dtype=int)\n",
    "\n",
    "for i in range(2,row):\n",
    "    for j in range(2,column):\n",
    "        Matrix[i,j] = G\n",
    "        G += 1\n",
    "        \n",
    "\n",
    "\n",
    "\n",
    "print(Matrix)\n",
    "\n"
   ]
  },
  {
   "cell_type": "code",
   "execution_count": 91,
   "metadata": {},
   "outputs": [
    {
     "name": "stdout",
     "output_type": "stream",
     "text": [
      "['A', 'T', 'G', 'C', 'T']\n",
      "['A', '-', 'G', 'C', 'T']\n"
     ]
    }
   ],
   "source": [
    "# GLOBAL ALIGNMENT \n",
    "#Needleman - wunsh Algorithm\n",
    "\n",
    "import numpy as np\n",
    "\n",
    "seq1 = 'ATGCT'\n",
    "seq2 = 'AGCT'\n",
    "                                    # To set dimension of matrix\n",
    "column = len(seq1) + 2\n",
    "row = len(seq2) +  2\n",
    "\n",
    "Matrix = np.zeros((row,column),dtype=int)\n",
    "\n",
    "DNA = {'A':1,\n",
    "       'G':2,\n",
    "       'C':3,\n",
    "       'T':4}\n",
    "\n",
    "seq1matrix = []\n",
    "seq2matrix = []\n",
    "                                    # Represent sequence has number vectors\n",
    "for i in seq1:\n",
    "     seq1matrix.append(DNA[i])\n",
    "for i in seq2:\n",
    "     seq2matrix.append(DNA[i])\n",
    "\n",
    "                                    # To set first 2 elements in vector of sequences\n",
    "hold = 0\n",
    "seq1matrix.insert(0,hold) \n",
    "seq1matrix.insert(0,hold)\n",
    "seq2matrix.insert(0,hold)\n",
    "seq2matrix.insert(0,hold)\n",
    "\n",
    "#print(Matrix)\n",
    "#print()\n",
    "#print(seq1matrix)\n",
    "#print(seq2matrix)\n",
    "                                    # to place vector sequence in matrix\n",
    "Matrix[0,:] = seq1matrix\n",
    "Matrix[:,0] = seq2matrix\n",
    "\n",
    "\n",
    "#print(Matrix)\n",
    "\n",
    "Gap_penalty = -2\n",
    "                                   # To initialize with Gap penalty row/column\n",
    "for i in range(2,column):\n",
    "    Q = i-1\n",
    "    Matrix[1,i] = Matrix[1,Q] + Gap_penalty\n",
    "    \n",
    "for i in range(2,row):\n",
    "    Q = i-1\n",
    "    Matrix[i,1] = Matrix[Q,1] + Gap_penalty\n",
    "    \n",
    "#print(Matrix)\n",
    "                                     # Matrix filling\n",
    "\n",
    "for i in range(2,row):\n",
    "    for j in range(2,column):\n",
    "        right = Matrix[i,j-1] + Gap_penalty\n",
    "        down  = Matrix[i-1,j] + Gap_penalty\n",
    "        \n",
    "        if Matrix[i,0] == Matrix[0,j]:\n",
    "            match_mismatch = 1\n",
    "        else:\n",
    "            match_mismatch = -1\n",
    "        \n",
    "        diagonal = Matrix[i-1,j-1] + match_mismatch\n",
    "        \n",
    "        maximum = max(right,down,diagonal)  \n",
    "        \n",
    "        Matrix[i,j] = maximum\n",
    "\n",
    "#print(Matrix)\n",
    "\n",
    "######### ####### ###### ######## ######## Trace back\n",
    "\n",
    "def find(element, matrix):\n",
    "    for i in range(0,row):\n",
    "        for j in range(0,column):\n",
    "            if matrix[i][j] == element:\n",
    "                return(i,j)\n",
    "\n",
    "def findall(element, matrix):\n",
    "    result = []\n",
    "    for i in range(0,row):\n",
    "        for j in range(0,column):\n",
    "            if matrix[i][j] == element:\n",
    "                result.append([i,j])\n",
    "    return result\n",
    "\n",
    "Matrix_reloaded = np.zeros((row,column),dtype=int)\n",
    "\n",
    "Matrix_reloaded[row-1,column-1] = 1\n",
    "\n",
    "iterate = 0\n",
    "\n",
    "while iterate < len(seq1):\n",
    "    element = find(1,Matrix_reloaded)\n",
    "    H,V =  element \n",
    "\n",
    "    if Matrix[H,0] == Matrix[0,V]:\n",
    "        Matrix_reloaded[H-1,V-1] = 1\n",
    "    else:\n",
    "        right =  Matrix[H,V-1] \n",
    "        down =  Matrix[H-1,V]\n",
    "        diagonal =  Matrix[H-1,V-1]\n",
    "\n",
    "        number_list= (right,down,diagonal)  # !!! potential Bug with more than 1 maximum value\n",
    "        max_value = max(number_list)\n",
    "        max_index = number_list.index(max_value)\n",
    "\n",
    "        if max_index == 0:\n",
    "            Matrix_reloaded[H,V-1] = 1\n",
    "        elif max_index == 1:\n",
    "            Matrix_reloaded[H-1,V] = 1\n",
    "        else:\n",
    "            Matrix_reloaded[H-1,V-1] = 1\n",
    "\n",
    "    iterate += 1     \n",
    "    #print(Matrix_reloaded)\n",
    "#print(Matrix)                         !!\n",
    "#print(Matrix_reloaded)                !!         \n",
    "Pathfinder = findall(1,Matrix_reloaded)\n",
    "#print(Pathfinder)\n",
    "\n",
    "sequence1 = []\n",
    "sequence2 = []\n",
    "    \n",
    "\n",
    "\n",
    "for i in Pathfinder:\n",
    "        sequence1.append(i[0])\n",
    "        sequence2.append(i[1])\n",
    "        \n",
    "#print(sequence1)\n",
    "#print(sequence2)\n",
    "\n",
    "sequence1new = []\n",
    "    \n",
    "for i in range(len(sequence1)):\n",
    "    sequence1new.append(sequence1[i])\n",
    "    if sequence1[i] == sequence1[i-1]:\n",
    "               sequence1new[i] = 0\n",
    "\n",
    "#print(sequence1new)\n",
    "#print(sequence1)\n",
    "#print(sequence2)     \n",
    "\n",
    "\n",
    "finalseq1 = []\n",
    "finalseq2 = []\n",
    "\n",
    "for j in sequence2:\n",
    "    gene2 = Matrix[0,j]\n",
    "    finalseq2.append(gene2)\n",
    "    \n",
    "for i in sequence1new:\n",
    "    gene1 = Matrix[i,0]\n",
    "    finalseq1.append(gene1)\n",
    "    \n",
    "    \n",
    "#print(finalseq2)\n",
    "#print(finalseq1)\n",
    "\n",
    "finalseq2.pop(0)\n",
    "finalseq1.pop(0)\n",
    "\n",
    "#print(finalseq2)\n",
    "#print(finalseq1)\n",
    "\n",
    "DNA_new = {1:'A',\n",
    "           2:'G',\n",
    "           3:'C',\n",
    "           4:'T',\n",
    "           0:'-'}\n",
    "\n",
    "\n",
    "for i in range(len(finalseq2)):\n",
    "    finalseq2[i] = DNA_new[finalseq2[i]]\n",
    "    finalseq1[i] = DNA_new[finalseq1[i]]\n",
    "    \n",
    "print(finalseq2)\n",
    "print(finalseq1)"
   ]
  }
 ],
 "metadata": {
  "kernelspec": {
   "display_name": "Python 3",
   "language": "python",
   "name": "python3"
  },
  "language_info": {
   "codemirror_mode": {
    "name": "ipython",
    "version": 3
   },
   "file_extension": ".py",
   "mimetype": "text/x-python",
   "name": "python",
   "nbconvert_exporter": "python",
   "pygments_lexer": "ipython3",
   "version": "3.7.6"
  }
 },
 "nbformat": 4,
 "nbformat_minor": 4
}
